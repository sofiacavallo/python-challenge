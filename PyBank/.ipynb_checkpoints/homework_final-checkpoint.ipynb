{
 "cells": [
  {
   "cell_type": "code",
   "execution_count": 55,
   "metadata": {},
   "outputs": [],
   "source": [
    "# Reading / Processing CSV\n",
    "# Dependencies\n",
    "import csv\n",
    "import os"
   ]
  },
  {
   "cell_type": "code",
   "execution_count": 56,
   "metadata": {},
   "outputs": [],
   "source": [
    "# Files to load and output\n",
    "budget_data = \"budget_data.csv\"\n",
    "budget_analysis = \"budget_analysis.txt\""
   ]
  },
  {
   "cell_type": "code",
   "execution_count": 57,
   "metadata": {},
   "outputs": [
    {
     "name": "stdout",
     "output_type": "stream",
     "text": [
      "[116771, -662642, -391430, 379920, 212354, 510239, -428211, -821271, 693918, 416278, -974163, 860159, -1115009, 1033048, 95318, -308093, 99052, -521393, 605450, 231727, -65187, -702716, 177975, -1065544, 1926159, -917805, 898730, -334262, -246499, -64055, -1529236, 1497596, 304914, -635801, 398319, -183161, -37864, -253689, 403655, 94168, 306877, -83000, 210462, -2196167, 1465222, -956983, 1838447, -468003, -64602, 206242, -242155, -449079, 315198, 241099, 111540, 365942, -219310, -368665, 409837, 151210, -110244, -341938, -1212159, 683246, -70825, 335594, 417334, -272194, -236462, 657432, -211262, -128237, -1750387, 925441, 932089, -311434, 267252, -1876758, 1733696, 198551, -665765, 693229, -734926, 77242, 532869]\n",
      "-196785\n",
      "85\n",
      "Financial Analysis\n",
      "-------------------\n",
      "Total Months:  {85}\n",
      "Total:  {37514694}\n",
      "Average Change:  {-2315.1176470588234}\n",
      "Greatest Increase in Profits:  {1926159}\n",
      "Greatest Decrease in Profits:  {-2196167}\n"
     ]
    }
   ],
   "source": [
    "# Read the csv and convert it into a list of dictionaries    \n",
    "with open(budget_data) as budget_data:\n",
    "    reader = csv.reader(budget_data)\n",
    "\n",
    "    # Read the header row\n",
    "    header = next(reader)    \n",
    "    \n",
    "    # Initialize a variable called total_months (count of all month values in the CSV)\n",
    "    total_months = 0 \n",
    "    \n",
    "    # Initialize a variable called net_total (sum of all postive/negative 'profit/loss' values in the CSV)\n",
    "    net_total = 0\n",
    "    \n",
    "    # First row advances reader by one line. Otherwise % change comp with 0, mathematical error. \n",
    "    first_row = next(reader)\n",
    "    \n",
    "    # Initialize variable for previous row.\n",
    "    previous_row = int(first_row[1])\n",
    "\n",
    "    # Define list called Net Change list\n",
    "    net_change_list = []\n",
    "    \n",
    "    \n",
    "    #Count total number of months in the data sets. Also the unique values in first column after the header. NOTE: row[1] is the 'Profit/Loss' value, and it is a STRING, thus needing a conversion. int() converts whatever is passed into to an integer\n",
    "    for row in reader:\n",
    "        total_months = total_months + 1\n",
    "    \n",
    "    #Calculate net total of profits and losses\n",
    "        net_total = net_total + int(row[1]) \n",
    "    \n",
    "    #Calculate changes in profits/losses over period. First track the net change. Keep moving prev row forward.\n",
    "        net_change = int(row[1]) - previous_row\n",
    "        previous_row = int(row[1])\n",
    "        net_change_list = net_change_list + [net_change]\n",
    "        \n",
    "    print(net_change_list)\n",
    "    print(sum(net_change_list))\n",
    "    print(len(net_change_list))\n",
    "        \n",
    "# Calculate average percent change\n",
    "    averageChange = sum(net_change_list) / len(net_change_list)\n",
    "\n",
    "# Print out the data points of interest as the final budget analysis\n",
    "    print(\"Financial Analysis\")\n",
    "    print(\"-------------------\")\n",
    "    print(\"Total Months: \", {total_months})\n",
    "    print(\"Total: \", {net_total})\n",
    "    print(\"Average Change: \", {averageChange})\n",
    "    print(\"Greatest Increase in Profits: \", {max(net_change_list)})\n",
    "    print(\"Greatest Decrease in Profits: \", {min(net_change_list)})"
   ]
  },
  {
   "cell_type": "code",
   "execution_count": null,
   "metadata": {},
   "outputs": [],
   "source": []
  },
  {
   "cell_type": "code",
   "execution_count": null,
   "metadata": {},
   "outputs": [],
   "source": []
  },
  {
   "cell_type": "code",
   "execution_count": null,
   "metadata": {},
   "outputs": [],
   "source": []
  }
 ],
 "metadata": {
  "kernelspec": {
   "display_name": "Python 3",
   "language": "python",
   "name": "python3"
  },
  "language_info": {
   "codemirror_mode": {
    "name": "ipython",
    "version": 3
   },
   "file_extension": ".py",
   "mimetype": "text/x-python",
   "name": "python",
   "nbconvert_exporter": "python",
   "pygments_lexer": "ipython3",
   "version": "3.6.8"
  }
 },
 "nbformat": 4,
 "nbformat_minor": 2
}
