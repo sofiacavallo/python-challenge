{
 "cells": [
  {
   "cell_type": "code",
   "execution_count": 58,
   "metadata": {},
   "outputs": [],
   "source": [
    "# Reading / Processing CSV\n",
    "# Dependencies\n",
    "import csv\n",
    "import os"
   ]
  },
  {
   "cell_type": "code",
   "execution_count": 59,
   "metadata": {},
   "outputs": [],
   "source": [
    "# Files to load and output\n",
    "budget_data = \"budget_data.csv\"\n",
    "budget_analysis = \"budget_analysis.txt\""
   ]
  },
  {
   "cell_type": "code",
   "execution_count": 60,
   "metadata": {},
   "outputs": [
    {
     "name": "stdout",
     "output_type": "stream",
     "text": [
      "Financial Analysis\n",
      "-------------------\n",
      "Total Months:  {85}\n",
      "Total:  {37514694}\n",
      "Average Change:  {-2315.1176470588234}\n",
      "Greatest Increase in Profits:  {1926159}\n",
      "Greatest Decrease in Profits:  {-2196167}\n"
     ]
    }
   ],
   "source": [
    "# Read the csv and convert it into a list of dictionaries    \n",
    "with open(budget_data) as budget_data:\n",
    "    reader = csv.reader(budget_data)\n",
    "\n",
    "    # Read the header row\n",
    "    header = next(reader)    \n",
    "    \n",
    "    # Initialize a variable called total_months (count of all month values in the CSV)\n",
    "    total_months = 0 \n",
    "    \n",
    "    # Initialize a variable called net_total (sum of all postive/negative 'profit/loss' values in the CSV)\n",
    "    net_total = 0\n",
    "    \n",
    "    # First row advances reader by one line. Otherwise % change comp with 0, mathematical error. \n",
    "    first_row = next(reader)\n",
    "    \n",
    "    # Initialize variable for previous row.\n",
    "    previous_row = int(first_row[1])\n",
    "\n",
    "    # Define list called Net Change list\n",
    "    net_change_list = []\n",
    "    \n",
    "    \n",
    "    #Count total number of months in the data sets. Also the unique values in first column after the header. NOTE: row[1] is the 'Profit/Loss' value, and it is a STRING, thus needing a conversion. int() converts whatever is passed into to an integer\n",
    "    for row in reader:\n",
    "        total_months = total_months + 1\n",
    "    \n",
    "    #Calculate net total of profits and losses\n",
    "        net_total = net_total + int(row[1]) \n",
    "    \n",
    "    #Calculate changes in profits/losses over period. First track the net change. Keep moving prev row forward.\n",
    "        net_change = int(row[1]) - previous_row\n",
    "        previous_row = int(row[1])\n",
    "        net_change_list = net_change_list + [net_change]\n",
    "\n",
    "# Calculate average percent change\n",
    "    averageChange = sum(net_change_list) / len(net_change_list)\n",
    "\n",
    "# Print out the data points of interest as the final budget analysis\n",
    "    print(\"Financial Analysis\")\n",
    "    print(\"-------------------\")\n",
    "    print(\"Total Months: \", {total_months})\n",
    "    print(\"Total: \", {net_total})\n",
    "    print(\"Average Change: \", {averageChange})\n",
    "    print(\"Greatest Increase in Profits: \", {max(net_change_list)})\n",
    "    print(\"Greatest Decrease in Profits: \", {min(net_change_list)})"
   ]
  },
  {
   "cell_type": "code",
   "execution_count": null,
   "metadata": {},
   "outputs": [],
   "source": []
  },
  {
   "cell_type": "code",
   "execution_count": null,
   "metadata": {},
   "outputs": [],
   "source": []
  },
  {
   "cell_type": "code",
   "execution_count": null,
   "metadata": {},
   "outputs": [],
   "source": []
  }
 ],
 "metadata": {
  "kernelspec": {
   "display_name": "Python 3",
   "language": "python",
   "name": "python3"
  },
  "language_info": {
   "codemirror_mode": {
    "name": "ipython",
    "version": 3
   },
   "file_extension": ".py",
   "mimetype": "text/x-python",
   "name": "python",
   "nbconvert_exporter": "python",
   "pygments_lexer": "ipython3",
   "version": "3.6.8"
  }
 },
 "nbformat": 4,
 "nbformat_minor": 2
}
