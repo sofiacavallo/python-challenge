{
 "cells": [
  {
   "cell_type": "code",
   "execution_count": 1,
   "metadata": {},
   "outputs": [],
   "source": [
    "# Variables, Primitive Data Types (string, integer, float, boolean)\n",
    "my_string = \"hello world\" + \"!\" + \"!\"\n",
    "my_int = 11\n",
    "my_boolean = True"
   ]
  },
  {
   "cell_type": "code",
   "execution_count": 2,
   "metadata": {},
   "outputs": [
    {
     "name": "stdout",
     "output_type": "stream",
     "text": [
      "True\n"
     ]
    }
   ],
   "source": [
    "# Conditionals\n",
    "# print((True == True) and (False == False))\n",
    "print('hello' == 'hello')"
   ]
  },
  {
   "cell_type": "code",
   "execution_count": 3,
   "metadata": {},
   "outputs": [
    {
     "name": "stdout",
     "output_type": "stream",
     "text": [
      "45\n"
     ]
    }
   ],
   "source": [
    "# Lists\n",
    "test_scores = [100, 90, 50, 45, 15, 75, 60]\n",
    "#               0   1   2   3   4   5   6\n",
    "test_scores_and_names = [100, 90, 50, 45, 15, 75, 60, 'Sally', 'Tim']\n",
    "\n",
    "print(test_scores[3])"
   ]
  },
  {
   "cell_type": "code",
   "execution_count": 5,
   "metadata": {},
   "outputs": [
    {
     "name": "stdout",
     "output_type": "stream",
     "text": [
      "100\n",
      "90\n",
      "50\n",
      "45\n",
      "15\n",
      "75\n",
      "60\n",
      "Sally\n",
      "Tim\n"
     ]
    }
   ],
   "source": [
    "# For Loops -> some action or actions that are repeated a specified number of times\n",
    "# 5 parts to the for loop (for, some_variable_name, in, list/target, :)\n",
    "for item in test_scores_and_names:\n",
    "    print(item)"
   ]
  },
  {
   "cell_type": "code",
   "execution_count": 10,
   "metadata": {},
   "outputs": [
    {
     "name": "stdout",
     "output_type": "stream",
     "text": [
      "20\n",
      "20\n",
      "20\n",
      "20\n"
     ]
    }
   ],
   "source": [
    "# Functions -> a special, named keyword that we use to store a collection a instructions\n",
    "def multiplyBy2(number):\n",
    "    print (number * 2)\n",
    "    print (number * 2)\n",
    "    print (number * 2)\n",
    "    print (number * 2)\n",
    "    \n",
    "multiplyBy2(10)"
   ]
  },
  {
   "cell_type": "code",
   "execution_count": null,
   "metadata": {},
   "outputs": [],
   "source": []
  },
  {
   "cell_type": "code",
   "execution_count": null,
   "metadata": {},
   "outputs": [],
   "source": []
  },
  {
   "cell_type": "code",
   "execution_count": 21,
   "metadata": {},
   "outputs": [],
   "source": [
    "# Practice for Python Homework"
   ]
  },
  {
   "cell_type": "code",
   "execution_count": 11,
   "metadata": {},
   "outputs": [],
   "source": [
    "# Reading / Processing CSV\n",
    "# Dependencies\n",
    "import csv\n",
    "import os"
   ]
  },
  {
   "cell_type": "code",
   "execution_count": 12,
   "metadata": {},
   "outputs": [],
   "source": [
    "# Files to load and output (Remember to change these)\n",
    "budget_data = os.path.join(\"budget_data.csv\")\n",
    "budget_analysis = os.path.join(\"budget_analysis.txt\")"
   ]
  },
  {
   "cell_type": "code",
   "execution_count": 7,
   "metadata": {},
   "outputs": [
    {
     "ename": "NameError",
     "evalue": "name 'budget_data' is not defined",
     "output_type": "error",
     "traceback": [
      "\u001b[1;31m---------------------------------------------------------------------------\u001b[0m",
      "\u001b[1;31mNameError\u001b[0m                                 Traceback (most recent call last)",
      "\u001b[1;32m<ipython-input-7-577e1503bc07>\u001b[0m in \u001b[0;36m<module>\u001b[1;34m\u001b[0m\n\u001b[0;32m      1\u001b[0m \u001b[1;31m# Read the csv and convert it into a list of dictionaries\u001b[0m\u001b[1;33m\u001b[0m\u001b[1;33m\u001b[0m\u001b[1;33m\u001b[0m\u001b[0m\n\u001b[1;32m----> 2\u001b[1;33m \u001b[1;32mwith\u001b[0m \u001b[0mopen\u001b[0m\u001b[1;33m(\u001b[0m\u001b[0mbudget_data\u001b[0m\u001b[1;33m)\u001b[0m \u001b[1;32mas\u001b[0m \u001b[0mbudget_data\u001b[0m\u001b[1;33m:\u001b[0m\u001b[1;33m\u001b[0m\u001b[1;33m\u001b[0m\u001b[0m\n\u001b[0m\u001b[0;32m      3\u001b[0m     \u001b[0mreader\u001b[0m \u001b[1;33m=\u001b[0m \u001b[0mcsv\u001b[0m\u001b[1;33m.\u001b[0m\u001b[0mreader\u001b[0m\u001b[1;33m(\u001b[0m\u001b[0mbudget_data\u001b[0m\u001b[1;33m)\u001b[0m\u001b[1;33m\u001b[0m\u001b[1;33m\u001b[0m\u001b[0m\n\u001b[0;32m      4\u001b[0m \u001b[1;33m\u001b[0m\u001b[0m\n\u001b[0;32m      5\u001b[0m     \u001b[1;31m# Read the header row\u001b[0m\u001b[1;33m\u001b[0m\u001b[1;33m\u001b[0m\u001b[1;33m\u001b[0m\u001b[0m\n",
      "\u001b[1;31mNameError\u001b[0m: name 'budget_data' is not defined"
     ]
    }
   ],
   "source": [
    "# Read the csv and convert it into a list of dictionaries    \n",
    "with open(budget_data) as budget_data:\n",
    "    reader = csv.reader(budget_data)\n",
    "\n",
    "    # Read the header row\n",
    "    header = next(reader)\n",
    "\n",
    "    # Print header\n",
    "    print(header)\n",
    "    \n",
    "    \n",
    "    \n",
    "    # Initialize a variable called total_months (count of all month values in the CSV)\n",
    "    total_months = 0 \n",
    "\n",
    "    #Count total number of months in the data sets. Also the unique values in first column after the header.\n",
    "    for row in reader:\n",
    "        total_months = len(list(budget_data)).unique()\n",
    "    \n",
    "    print('Total Months: ', total_months)\n",
    "    \n",
    "    \n",
    "    \n",
    "    # Initialize a variable called net_total (sum of all postive/negative 'profit/loss' values in the CSV)\n",
    "    net_total = 0\n",
    "    \n",
    "    # Run a for loop that will constantly add each row's profit/loss value to net_total\n",
    "    for row in reader:\n",
    "        # NOTE: row[1] is the 'Profit/Loss' value, and it is a STRING, thus needing a conversion\n",
    "        print(row)\n",
    "        \n",
    "        net_total = net_total + int(row[1]) # int() converts whatever is passed into to an integer\n",
    "        \n",
    "    print('Total is:', net_total)\n",
    "    \n",
    "    \n",
    "    \n",
    "    average_profits = 0\n",
    "    average_profits = \n",
    "    "
   ]
  },
  {
   "cell_type": "code",
   "execution_count": null,
   "metadata": {},
   "outputs": [],
   "source": []
  },
  {
   "cell_type": "code",
   "execution_count": null,
   "metadata": {},
   "outputs": [],
   "source": []
  }
 ],
 "metadata": {
  "kernelspec": {
   "display_name": "Python 3",
   "language": "python",
   "name": "python3"
  },
  "language_info": {
   "codemirror_mode": {
    "name": "ipython",
    "version": 3
   },
   "file_extension": ".py",
   "mimetype": "text/x-python",
   "name": "python",
   "nbconvert_exporter": "python",
   "pygments_lexer": "ipython3",
   "version": "3.6.8"
  }
 },
 "nbformat": 4,
 "nbformat_minor": 2
}
